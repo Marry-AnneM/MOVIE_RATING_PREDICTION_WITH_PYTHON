{
  "metadata": {
    "kernelspec": {
      "language": "python",
      "display_name": "Python 3",
      "name": "python3"
    },
    "language_info": {
      "pygments_lexer": "ipython3",
      "nbconvert_exporter": "python",
      "version": "3.6.4",
      "file_extension": ".py",
      "codemirror_mode": {
        "name": "ipython",
        "version": 3
      },
      "name": "python",
      "mimetype": "text/x-python"
    },
    "kaggle": {
      "accelerator": "none",
      "dataSources": [
        {
          "sourceId": 2346296,
          "sourceType": "datasetVersion",
          "datasetId": 1416444
        }
      ],
      "dockerImageVersionId": 30558,
      "isInternetEnabled": false,
      "language": "python",
      "sourceType": "notebook",
      "isGpuEnabled": false
    },
    "colab": {
      "name": "MOVIE RATING PREDICTION WITH PYTHON",
      "provenance": []
    }
  },
  "nbformat_minor": 0,
  "nbformat": 4,
  "cells": [
    {
      "source": [
        "\n",
        "# IMPORTANT: RUN THIS CELL IN ORDER TO IMPORT YOUR KAGGLE DATA SOURCES\n",
        "# TO THE CORRECT LOCATION (/kaggle/input) IN YOUR NOTEBOOK,\n",
        "# THEN FEEL FREE TO DELETE THIS CELL.\n",
        "# NOTE: THIS NOTEBOOK ENVIRONMENT DIFFERS FROM KAGGLE'S PYTHON\n",
        "# ENVIRONMENT SO THERE MAY BE MISSING LIBRARIES USED BY YOUR\n",
        "# NOTEBOOK.\n",
        "\n",
        "import os\n",
        "import sys\n",
        "from tempfile import NamedTemporaryFile\n",
        "from urllib.request import urlopen\n",
        "from urllib.parse import unquote, urlparse\n",
        "from urllib.error import HTTPError\n",
        "from zipfile import ZipFile\n",
        "import tarfile\n",
        "import shutil\n",
        "\n",
        "CHUNK_SIZE = 40960\n",
        "DATA_SOURCE_MAPPING = 'imdb-india-movies:https%3A%2F%2Fstorage.googleapis.com%2Fkaggle-data-sets%2F1416444%2F2346296%2Fbundle%2Farchive.zip%3FX-Goog-Algorithm%3DGOOG4-RSA-SHA256%26X-Goog-Credential%3Dgcp-kaggle-com%2540kaggle-161607.iam.gserviceaccount.com%252F20240419%252Fauto%252Fstorage%252Fgoog4_request%26X-Goog-Date%3D20240419T205204Z%26X-Goog-Expires%3D259200%26X-Goog-SignedHeaders%3Dhost%26X-Goog-Signature%3D81e9989eff884696bae05530cd7fa8c32bd435d84706af44fdacecd9bd50825507cab564d2c2e6de2f7ab7975c1733d345b23dae526c63054e43ecf82c3d57521144f5a219287471883672109996c0f671dea712d00394019d06c29f11e46c6e53b5e49aaca56cb33c5a80ff9015a5db2a17fee3fbb21a443fc14aca83b5be87866796244c253c5da49a3985fefa4675d392328025b4e623fa7d2feb090bfaf1d300a6c7aee88ca36e2c83f4f8977aa3e6f4edec5b9818070a696a1483972644aadc2347c244a5ebac780dc2b0e8f5b51c4b6988cc6a5c4e6173085b2f69108069073d557ccae5b3594a355d3db4a0def9c4c875f0e2af46efb291993964f396'\n",
        "\n",
        "KAGGLE_INPUT_PATH='/kaggle/input'\n",
        "KAGGLE_WORKING_PATH='/kaggle/working'\n",
        "KAGGLE_SYMLINK='kaggle'\n",
        "\n",
        "!umount /kaggle/input/ 2> /dev/null\n",
        "shutil.rmtree('/kaggle/input', ignore_errors=True)\n",
        "os.makedirs(KAGGLE_INPUT_PATH, 0o777, exist_ok=True)\n",
        "os.makedirs(KAGGLE_WORKING_PATH, 0o777, exist_ok=True)\n",
        "\n",
        "try:\n",
        "  os.symlink(KAGGLE_INPUT_PATH, os.path.join(\"..\", 'input'), target_is_directory=True)\n",
        "except FileExistsError:\n",
        "  pass\n",
        "try:\n",
        "  os.symlink(KAGGLE_WORKING_PATH, os.path.join(\"..\", 'working'), target_is_directory=True)\n",
        "except FileExistsError:\n",
        "  pass\n",
        "\n",
        "for data_source_mapping in DATA_SOURCE_MAPPING.split(','):\n",
        "    directory, download_url_encoded = data_source_mapping.split(':')\n",
        "    download_url = unquote(download_url_encoded)\n",
        "    filename = urlparse(download_url).path\n",
        "    destination_path = os.path.join(KAGGLE_INPUT_PATH, directory)\n",
        "    try:\n",
        "        with urlopen(download_url) as fileres, NamedTemporaryFile() as tfile:\n",
        "            total_length = fileres.headers['content-length']\n",
        "            print(f'Downloading {directory}, {total_length} bytes compressed')\n",
        "            dl = 0\n",
        "            data = fileres.read(CHUNK_SIZE)\n",
        "            while len(data) > 0:\n",
        "                dl += len(data)\n",
        "                tfile.write(data)\n",
        "                done = int(50 * dl / int(total_length))\n",
        "                sys.stdout.write(f\"\\r[{'=' * done}{' ' * (50-done)}] {dl} bytes downloaded\")\n",
        "                sys.stdout.flush()\n",
        "                data = fileres.read(CHUNK_SIZE)\n",
        "            if filename.endswith('.zip'):\n",
        "              with ZipFile(tfile) as zfile:\n",
        "                zfile.extractall(destination_path)\n",
        "            else:\n",
        "              with tarfile.open(tfile.name) as tarfile:\n",
        "                tarfile.extractall(destination_path)\n",
        "            print(f'\\nDownloaded and uncompressed: {directory}')\n",
        "    except HTTPError as e:\n",
        "        print(f'Failed to load (likely expired) {download_url} to path {destination_path}')\n",
        "        continue\n",
        "    except OSError as e:\n",
        "        print(f'Failed to load {download_url} to path {destination_path}')\n",
        "        continue\n",
        "\n",
        "print('Data source import complete.')\n"
      ],
      "metadata": {
        "id": "2XZcdtdSIX2h"
      },
      "cell_type": "code",
      "outputs": [],
      "execution_count": null
    },
    {
      "cell_type": "code",
      "source": [],
      "metadata": {
        "_uuid": "8f2839f25d086af736a60e9eeb907d3b93b6e0e5",
        "_cell_guid": "b1076dfc-b9ad-4769-8c92-a6c4dae69d19",
        "trusted": true,
        "id": "8lpAQjSOIX2l"
      },
      "execution_count": null,
      "outputs": []
    },
    {
      "cell_type": "markdown",
      "source": [
        "<h1 style=\"font-size: 45px\", align=\"center\">\n",
        "    <center>M.M.M Codesoft Internship </center>\n",
        "</h1>\n",
        "<h1 style=\"font-size: 50px\", align=\"center\">\n",
        "    <center>IMDB Movies Rating Prediction M.M.M</center>\n",
        "</h1>"
      ],
      "metadata": {
        "id": "Mkg_2a7KIX2m"
      }
    },
    {
      "cell_type": "markdown",
      "source": [
        "Welcome to a cinematic journey through Indian movies, as captured by IMDb.com. This dataset is more than just numbers and titles—it's a glimpse into the vibrant tapestry of Indian cinema, spanning genres, decades, and creative visions.\n",
        "\n",
        "Our task begins with cleaning this data, ensuring that missing values are addressed and the dataset is primed for exploratory data analysis (EDA). This initial step sets the stage for uncovering intriguing trends and insights within the world of Indian movies.\n",
        "\n",
        "As we dive deeper, we'll explore questions that pique curiosity: Which year boasted the best-rated movies? Does a movie's length influence its rating? Who are the top directors and actors shaping the industry's landscape?\n",
        "\n",
        "We'll also uncover the top-rated movies per year and overall, delve into the popularity trends of movies released annually, and analyze voting patterns to understand audience preferences better.\n",
        "\n",
        "But our journey doesn't end there. We'll look beyond the data's surface, seeking out hidden trends and potential future predictions, offering a glimpse into the evolving landscape of Indian cinema.\n",
        "\n",
        "So, buckle up for an adventure in data exploration, where each query and code line unveils a new chapter in the captivating world of Indian movies."
      ],
      "metadata": {
        "id": "OTUlEWp_IX2o"
      }
    },
    {
      "cell_type": "markdown",
      "source": [
        "**Importing Libraries**"
      ],
      "metadata": {
        "id": "W-l62BX-IX2p"
      }
    },
    {
      "cell_type": "code",
      "source": [
        "import pandas as pd\n",
        "import numpy as np\n",
        "\n",
        "# visualization\n",
        "import matplotlib.pyplot as plt\n",
        "import seaborn as sns\n",
        "\n",
        "# modeling\n",
        "from sklearn.linear_model import LinearRegression, Ridge\n",
        "from sklearn.ensemble import RandomForestRegressor\n",
        "from sklearn.tree import DecisionTreeRegressor\n",
        "from sklearn.model_selection import train_test_split, cross_val_score, KFold, GridSearchCV\n",
        "from sklearn.metrics import mean_squared_error, mean_absolute_error, r2_score\n",
        "\n",
        "# Ignore warnings\n",
        "import warnings\n",
        "warnings.filterwarnings('ignore')"
      ],
      "metadata": {
        "execution": {
          "iopub.status.busy": "2023-10-21T13:46:25.34817Z",
          "iopub.execute_input": "2023-10-21T13:46:25.348588Z",
          "iopub.status.idle": "2023-10-21T13:46:28.39005Z",
          "shell.execute_reply.started": "2023-10-21T13:46:25.348553Z",
          "shell.execute_reply": "2023-10-21T13:46:28.38882Z"
        },
        "trusted": true,
        "id": "ohUfUsg0IX2q"
      },
      "execution_count": null,
      "outputs": []
    },
    {
      "cell_type": "code",
      "source": [
        "df = pd.read_csv('/kaggle/input/imdb-india-movies/IMDb Movies India.csv', encoding='latin1')\n",
        "df.head()"
      ],
      "metadata": {
        "execution": {
          "iopub.status.busy": "2023-10-21T13:46:28.392106Z",
          "iopub.execute_input": "2023-10-21T13:46:28.393914Z",
          "iopub.status.idle": "2023-10-21T13:46:28.512671Z",
          "shell.execute_reply.started": "2023-10-21T13:46:28.393863Z",
          "shell.execute_reply": "2023-10-21T13:46:28.511434Z"
        },
        "trusted": true,
        "id": "C1znhOwVIX2r"
      },
      "execution_count": null,
      "outputs": []
    },
    {
      "cell_type": "code",
      "source": [
        "df.shape"
      ],
      "metadata": {
        "execution": {
          "iopub.status.busy": "2023-10-21T13:46:28.514419Z",
          "iopub.execute_input": "2023-10-21T13:46:28.515498Z",
          "iopub.status.idle": "2023-10-21T13:46:28.524667Z",
          "shell.execute_reply.started": "2023-10-21T13:46:28.515452Z",
          "shell.execute_reply": "2023-10-21T13:46:28.522935Z"
        },
        "trusted": true,
        "id": "omHQEAwtIX2s"
      },
      "execution_count": null,
      "outputs": []
    },
    {
      "cell_type": "code",
      "source": [
        "df.info()"
      ],
      "metadata": {
        "execution": {
          "iopub.status.busy": "2023-10-21T13:46:28.52801Z",
          "iopub.execute_input": "2023-10-21T13:46:28.528498Z",
          "iopub.status.idle": "2023-10-21T13:46:28.575402Z",
          "shell.execute_reply.started": "2023-10-21T13:46:28.528457Z",
          "shell.execute_reply": "2023-10-21T13:46:28.574515Z"
        },
        "trusted": true,
        "id": "IwMRRkIWIX2t"
      },
      "execution_count": null,
      "outputs": []
    },
    {
      "cell_type": "code",
      "source": [
        "df.describe(include='all')"
      ],
      "metadata": {
        "execution": {
          "iopub.status.busy": "2023-10-21T13:46:28.576758Z",
          "iopub.execute_input": "2023-10-21T13:46:28.577303Z",
          "iopub.status.idle": "2023-10-21T13:46:28.661466Z",
          "shell.execute_reply.started": "2023-10-21T13:46:28.577272Z",
          "shell.execute_reply": "2023-10-21T13:46:28.66027Z"
        },
        "trusted": true,
        "id": "m1ND2MzdIX2t"
      },
      "execution_count": null,
      "outputs": []
    },
    {
      "cell_type": "markdown",
      "source": [
        "# # Explorartory Data Analysis"
      ],
      "metadata": {
        "id": "ctw8luMyIX2u"
      }
    },
    {
      "cell_type": "markdown",
      "source": [
        "**Missing Data**"
      ],
      "metadata": {
        "id": "sLMRYoduIX2u"
      }
    },
    {
      "cell_type": "code",
      "source": [
        "df.isnull().sum()"
      ],
      "metadata": {
        "execution": {
          "iopub.status.busy": "2023-10-21T13:46:28.662787Z",
          "iopub.execute_input": "2023-10-21T13:46:28.66435Z",
          "iopub.status.idle": "2023-10-21T13:46:28.686009Z",
          "shell.execute_reply.started": "2023-10-21T13:46:28.66429Z",
          "shell.execute_reply": "2023-10-21T13:46:28.684453Z"
        },
        "trusted": true,
        "id": "lOhVc5GLIX2u"
      },
      "execution_count": null,
      "outputs": []
    },
    {
      "cell_type": "code",
      "source": [
        "sns.heatmap(df.isnull());"
      ],
      "metadata": {
        "execution": {
          "iopub.status.busy": "2023-10-21T13:46:28.6876Z",
          "iopub.execute_input": "2023-10-21T13:46:28.688034Z",
          "iopub.status.idle": "2023-10-21T13:46:29.525525Z",
          "shell.execute_reply.started": "2023-10-21T13:46:28.687992Z",
          "shell.execute_reply": "2023-10-21T13:46:29.524276Z"
        },
        "trusted": true,
        "id": "vN3IkypRIX2v"
      },
      "execution_count": null,
      "outputs": []
    },
    {
      "cell_type": "code",
      "source": [
        "missing_count = df.isnull().sum().sort_values(ascending=False)\n",
        "missing_percent = (round(df.isnull().sum()/df.isnull().count(), 4)*100).sort_values(ascending=False)\n",
        "missing_data = pd.concat([missing_count, missing_percent],\n",
        "                       axis=1,\n",
        "                       keys=['missing_count', 'missing_percent'])\n",
        "missing_data"
      ],
      "metadata": {
        "execution": {
          "iopub.status.busy": "2023-10-21T13:46:29.526981Z",
          "iopub.execute_input": "2023-10-21T13:46:29.530509Z",
          "iopub.status.idle": "2023-10-21T13:46:29.56929Z",
          "shell.execute_reply.started": "2023-10-21T13:46:29.530458Z",
          "shell.execute_reply": "2023-10-21T13:46:29.568049Z"
        },
        "trusted": true,
        "id": "vybJIA2kIX2v"
      },
      "execution_count": null,
      "outputs": []
    },
    {
      "cell_type": "code",
      "source": [
        "df.dropna(subset=['Rating'], inplace=True)\n",
        "\n",
        "(round(df.isnull().sum()/df.isnull().count(), 4)*100).sort_values(ascending=False)"
      ],
      "metadata": {
        "execution": {
          "iopub.status.busy": "2023-10-21T13:46:29.570788Z",
          "iopub.execute_input": "2023-10-21T13:46:29.571358Z",
          "iopub.status.idle": "2023-10-21T13:46:29.604585Z",
          "shell.execute_reply.started": "2023-10-21T13:46:29.571296Z",
          "shell.execute_reply": "2023-10-21T13:46:29.603436Z"
        },
        "trusted": true,
        "id": "rQmiOZrzIX2w"
      },
      "execution_count": null,
      "outputs": []
    },
    {
      "cell_type": "code",
      "source": [
        "df.dropna(subset=['Director', 'Actor 1', 'Actor 2', 'Actor 3', 'Genre'], inplace=True)\n",
        "\n",
        "(round(df.isnull().sum()/df.isnull().count(), 4)*100).sort_values(ascending=False)"
      ],
      "metadata": {
        "execution": {
          "iopub.status.busy": "2023-10-21T13:46:29.609555Z",
          "iopub.execute_input": "2023-10-21T13:46:29.610631Z",
          "iopub.status.idle": "2023-10-21T13:46:29.63811Z",
          "shell.execute_reply.started": "2023-10-21T13:46:29.610582Z",
          "shell.execute_reply": "2023-10-21T13:46:29.637021Z"
        },
        "trusted": true,
        "id": "GSg6olSzIX2w"
      },
      "execution_count": null,
      "outputs": []
    },
    {
      "cell_type": "code",
      "source": [
        "df['Duration'] = pd.to_numeric(df['Duration'].str.strip(' min'))\n",
        "df['Duration'].fillna(df['Duration'].mean(), inplace=True)\n",
        "\n",
        "df.isnull().sum()"
      ],
      "metadata": {
        "execution": {
          "iopub.status.busy": "2023-10-21T13:46:29.639673Z",
          "iopub.execute_input": "2023-10-21T13:46:29.640046Z",
          "iopub.status.idle": "2023-10-21T13:46:29.678797Z",
          "shell.execute_reply.started": "2023-10-21T13:46:29.640015Z",
          "shell.execute_reply": "2023-10-21T13:46:29.677597Z"
        },
        "trusted": true,
        "id": "d-u9MoR-IX2x"
      },
      "execution_count": null,
      "outputs": []
    },
    {
      "cell_type": "code",
      "source": [
        "df.drop_duplicates(inplace=True)\n",
        "df.shape"
      ],
      "metadata": {
        "execution": {
          "iopub.status.busy": "2023-10-21T13:46:29.680624Z",
          "iopub.execute_input": "2023-10-21T13:46:29.681459Z",
          "iopub.status.idle": "2023-10-21T13:46:29.714321Z",
          "shell.execute_reply.started": "2023-10-21T13:46:29.68141Z",
          "shell.execute_reply": "2023-10-21T13:46:29.712958Z"
        },
        "trusted": true,
        "id": "c3mPJEBMIX2x"
      },
      "execution_count": null,
      "outputs": []
    },
    {
      "cell_type": "code",
      "source": [
        "df['Year'] = df['Year'].apply(lambda x: x.split(')')[0])\n",
        "\n",
        "year_lst = []\n",
        "for val in df['Year']:\n",
        "    if len(val.split('(')) == 1:\n",
        "        year_lst.append(val.split('(')[0])\n",
        "    elif len(val.split('(')) > 1:\n",
        "        year_lst.append(val.split('(')[1])\n",
        "df['Year'] = year_lst"
      ],
      "metadata": {
        "execution": {
          "iopub.status.busy": "2023-10-21T13:46:29.716479Z",
          "iopub.execute_input": "2023-10-21T13:46:29.717313Z",
          "iopub.status.idle": "2023-10-21T13:46:29.767466Z",
          "shell.execute_reply.started": "2023-10-21T13:46:29.717261Z",
          "shell.execute_reply": "2023-10-21T13:46:29.766333Z"
        },
        "trusted": true,
        "id": "MhnTAEN_IX2x"
      },
      "execution_count": null,
      "outputs": []
    },
    {
      "cell_type": "code",
      "source": [
        "df['Votes'] = df['Votes'].str.replace(',', '').astype(int)\n",
        "df['Year'] = df['Year'].astype(int)\n",
        "df.info()"
      ],
      "metadata": {
        "execution": {
          "iopub.status.busy": "2023-10-21T13:46:29.768784Z",
          "iopub.execute_input": "2023-10-21T13:46:29.769113Z",
          "iopub.status.idle": "2023-10-21T13:46:29.796908Z",
          "shell.execute_reply.started": "2023-10-21T13:46:29.769085Z",
          "shell.execute_reply": "2023-10-21T13:46:29.795185Z"
        },
        "trusted": true,
        "id": "ji8PpeQaIX2x"
      },
      "execution_count": null,
      "outputs": []
    },
    {
      "cell_type": "code",
      "source": [
        "df['Year'].unique()"
      ],
      "metadata": {
        "execution": {
          "iopub.status.busy": "2023-10-21T13:46:29.798665Z",
          "iopub.execute_input": "2023-10-21T13:46:29.799444Z",
          "iopub.status.idle": "2023-10-21T13:46:29.807835Z",
          "shell.execute_reply.started": "2023-10-21T13:46:29.799395Z",
          "shell.execute_reply": "2023-10-21T13:46:29.80663Z"
        },
        "trusted": true,
        "id": "CWS8KpvaIX2y"
      },
      "execution_count": null,
      "outputs": []
    },
    {
      "cell_type": "code",
      "source": [
        "(df['Duration']>180).sum()"
      ],
      "metadata": {
        "execution": {
          "iopub.status.busy": "2023-10-21T13:46:29.809662Z",
          "iopub.execute_input": "2023-10-21T13:46:29.810491Z",
          "iopub.status.idle": "2023-10-21T13:46:29.823873Z",
          "shell.execute_reply.started": "2023-10-21T13:46:29.810446Z",
          "shell.execute_reply": "2023-10-21T13:46:29.822696Z"
        },
        "trusted": true,
        "id": "u0cSlRdJIX2y"
      },
      "execution_count": null,
      "outputs": []
    },
    {
      "cell_type": "code",
      "source": [
        "(df['Duration']<60).sum()"
      ],
      "metadata": {
        "execution": {
          "iopub.status.busy": "2023-10-21T13:46:29.82515Z",
          "iopub.execute_input": "2023-10-21T13:46:29.826131Z",
          "iopub.status.idle": "2023-10-21T13:46:29.83947Z",
          "shell.execute_reply.started": "2023-10-21T13:46:29.826083Z",
          "shell.execute_reply": "2023-10-21T13:46:29.838153Z"
        },
        "trusted": true,
        "id": "uiTaIV9vIX2y"
      },
      "execution_count": null,
      "outputs": []
    },
    {
      "cell_type": "code",
      "source": [
        "df.info()"
      ],
      "metadata": {
        "execution": {
          "iopub.status.busy": "2023-10-21T13:46:29.840871Z",
          "iopub.execute_input": "2023-10-21T13:46:29.842722Z",
          "iopub.status.idle": "2023-10-21T13:46:29.875607Z",
          "shell.execute_reply.started": "2023-10-21T13:46:29.842666Z",
          "shell.execute_reply": "2023-10-21T13:46:29.874386Z"
        },
        "trusted": true,
        "id": "XnpQ-eG8IX2y"
      },
      "execution_count": null,
      "outputs": []
    },
    {
      "cell_type": "code",
      "source": [
        "df[['Rating', 'Duration', 'Votes']].describe(percentiles=[0.75,0.8, 0.9, 0.95, 0.98])"
      ],
      "metadata": {
        "execution": {
          "iopub.status.busy": "2023-10-21T13:46:29.877119Z",
          "iopub.execute_input": "2023-10-21T13:46:29.878467Z",
          "iopub.status.idle": "2023-10-21T13:46:29.905672Z",
          "shell.execute_reply.started": "2023-10-21T13:46:29.878416Z",
          "shell.execute_reply": "2023-10-21T13:46:29.904446Z"
        },
        "trusted": true,
        "id": "EGXWbuRSIX2y"
      },
      "execution_count": null,
      "outputs": []
    },
    {
      "cell_type": "code",
      "source": [
        "sns.violinplot(y=df['Duration'])\n",
        "plt.title('Spreadness of duration')\n",
        "plt.show()"
      ],
      "metadata": {
        "execution": {
          "iopub.status.busy": "2023-10-21T13:46:29.907322Z",
          "iopub.execute_input": "2023-10-21T13:46:29.907786Z",
          "iopub.status.idle": "2023-10-21T13:46:30.206698Z",
          "shell.execute_reply.started": "2023-10-21T13:46:29.907746Z",
          "shell.execute_reply": "2023-10-21T13:46:30.205524Z"
        },
        "trusted": true,
        "id": "yhhXVxafIX2z"
      },
      "execution_count": null,
      "outputs": []
    },
    {
      "cell_type": "code",
      "source": [
        "sns.distplot(df['Duration'])\n",
        "plt.title('Distribution of duration')\n",
        "plt.show()"
      ],
      "metadata": {
        "execution": {
          "iopub.status.busy": "2023-10-21T13:46:30.208453Z",
          "iopub.execute_input": "2023-10-21T13:46:30.209175Z",
          "iopub.status.idle": "2023-10-21T13:46:30.61838Z",
          "shell.execute_reply.started": "2023-10-21T13:46:30.209133Z",
          "shell.execute_reply": "2023-10-21T13:46:30.617216Z"
        },
        "trusted": true,
        "id": "9sKKpCiJIX2z"
      },
      "execution_count": null,
      "outputs": []
    },
    {
      "cell_type": "code",
      "source": [
        "sns.boxplot(x=df['Rating'])\n",
        "plt.title('Spreadness of rating')\n",
        "plt.show()"
      ],
      "metadata": {
        "execution": {
          "iopub.status.busy": "2023-10-21T13:46:30.620105Z",
          "iopub.execute_input": "2023-10-21T13:46:30.620847Z",
          "iopub.status.idle": "2023-10-21T13:46:30.803602Z",
          "shell.execute_reply.started": "2023-10-21T13:46:30.620792Z",
          "shell.execute_reply": "2023-10-21T13:46:30.80241Z"
        },
        "trusted": true,
        "id": "hZyceaY-IX2z"
      },
      "execution_count": null,
      "outputs": []
    },
    {
      "cell_type": "code",
      "source": [
        "sns.distplot(df['Rating'])\n",
        "plt.title('Distribution of rating')\n",
        "plt.show()"
      ],
      "metadata": {
        "execution": {
          "iopub.status.busy": "2023-10-21T13:46:30.805215Z",
          "iopub.execute_input": "2023-10-21T13:46:30.806422Z",
          "iopub.status.idle": "2023-10-21T13:46:31.271107Z",
          "shell.execute_reply.started": "2023-10-21T13:46:30.806373Z",
          "shell.execute_reply": "2023-10-21T13:46:31.269663Z"
        },
        "trusted": true,
        "id": "lrkeWe-yIX2z"
      },
      "execution_count": null,
      "outputs": []
    },
    {
      "cell_type": "code",
      "source": [
        "sns.violinplot(y=df['Votes'])\n",
        "plt.title('Spreadness of votes')\n",
        "plt.show()"
      ],
      "metadata": {
        "execution": {
          "iopub.status.busy": "2023-10-21T13:46:31.272545Z",
          "iopub.execute_input": "2023-10-21T13:46:31.272887Z",
          "iopub.status.idle": "2023-10-21T13:46:31.549146Z",
          "shell.execute_reply.started": "2023-10-21T13:46:31.272859Z",
          "shell.execute_reply": "2023-10-21T13:46:31.548161Z"
        },
        "trusted": true,
        "id": "niFGQ01WIX2z"
      },
      "execution_count": null,
      "outputs": []
    },
    {
      "cell_type": "code",
      "source": [
        "sns.distplot(df['Votes'])\n",
        "plt.title('Distribution of votes')\n",
        "plt.show()"
      ],
      "metadata": {
        "execution": {
          "iopub.status.busy": "2023-10-21T13:46:31.550221Z",
          "iopub.execute_input": "2023-10-21T13:46:31.550767Z",
          "iopub.status.idle": "2023-10-21T13:46:32.084705Z",
          "shell.execute_reply.started": "2023-10-21T13:46:31.550734Z",
          "shell.execute_reply": "2023-10-21T13:46:32.083571Z"
        },
        "trusted": true,
        "id": "n6LoKkzQIX20"
      },
      "execution_count": null,
      "outputs": []
    },
    {
      "cell_type": "code",
      "source": [
        "df[df['Votes']>100000]"
      ],
      "metadata": {
        "execution": {
          "iopub.status.busy": "2023-10-21T13:46:32.086141Z",
          "iopub.execute_input": "2023-10-21T13:46:32.087194Z",
          "iopub.status.idle": "2023-10-21T13:46:32.106262Z",
          "shell.execute_reply.started": "2023-10-21T13:46:32.087158Z",
          "shell.execute_reply": "2023-10-21T13:46:32.10502Z"
        },
        "trusted": true,
        "id": "kUjQui-KIX20"
      },
      "execution_count": null,
      "outputs": []
    },
    {
      "cell_type": "code",
      "source": [
        "# Average rating per year\n",
        "year_rating = df.groupby('Year').agg({'Rating': 'mean'}).reset_index().sort_values(by='Rating',\n",
        "                                                                     ascending=False,\n",
        "                                                                     )\n",
        "year_rating['Rating'] = round(year_rating['Rating'],1)\n",
        "\n",
        "plt.figure(figsize=(25,9))\n",
        "ax = sns.barplot(data=year_rating, x='Year', y='Rating')\n",
        "ax.bar_label(ax.containers[0])\n",
        "plt.title('Average rating per year')\n",
        "plt.xticks(rotation=90)\n",
        "plt.show()"
      ],
      "metadata": {
        "execution": {
          "iopub.status.busy": "2023-10-21T13:46:32.10782Z",
          "iopub.execute_input": "2023-10-21T13:46:32.108247Z",
          "iopub.status.idle": "2023-10-21T13:46:33.536126Z",
          "shell.execute_reply.started": "2023-10-21T13:46:32.108215Z",
          "shell.execute_reply": "2023-10-21T13:46:33.534528Z"
        },
        "trusted": true,
        "id": "2MBlGkorIX20"
      },
      "execution_count": null,
      "outputs": []
    },
    {
      "cell_type": "code",
      "source": [
        "# Number of movie release per year\n",
        "year_count = df.groupby('Year').agg({'Name':'count'}).rename(columns={'Name':'count'}).\\\n",
        "                                        sort_values(by='count', ascending=False).reset_index()\n",
        "plt.figure(figsize=(20,8))\n",
        "ax = sns.barplot(data=year_count, x='Year', y='count')\n",
        "ax.bar_label(ax.containers[0])\n",
        "plt.title('Number of movie releases per year')\n",
        "plt.xticks(rotation=90)\n",
        "plt.show()"
      ],
      "metadata": {
        "execution": {
          "iopub.status.busy": "2023-10-21T13:46:33.544022Z",
          "iopub.execute_input": "2023-10-21T13:46:33.544501Z",
          "iopub.status.idle": "2023-10-21T13:46:35.053757Z",
          "shell.execute_reply.started": "2023-10-21T13:46:33.544466Z",
          "shell.execute_reply": "2023-10-21T13:46:35.052438Z"
        },
        "trusted": true,
        "id": "5dx1rrXyIX20"
      },
      "execution_count": null,
      "outputs": []
    },
    {
      "cell_type": "code",
      "source": [
        "plt.figure(figsize=(20,8))\n",
        "ax = sns.lineplot(data=year_count, x='Year', y='count')\n",
        "plt.title('Number of movie releases per year')\n",
        "plt.xticks(rotation=90)\n",
        "plt.show()"
      ],
      "metadata": {
        "execution": {
          "iopub.status.busy": "2023-10-21T13:46:35.055219Z",
          "iopub.execute_input": "2023-10-21T13:46:35.05595Z",
          "iopub.status.idle": "2023-10-21T13:46:35.388427Z",
          "shell.execute_reply.started": "2023-10-21T13:46:35.055916Z",
          "shell.execute_reply": "2023-10-21T13:46:35.386795Z"
        },
        "trusted": true,
        "id": "r5BUlc7cIX20"
      },
      "execution_count": null,
      "outputs": []
    },
    {
      "cell_type": "code",
      "source": [
        "# plot top ten high average rated genre\n",
        "genre_rate = df.groupby('Genre').agg({'Rating':'mean'}).sort_values(by='Rating', ascending=False)\\\n",
        "                                .reset_index().head(10)\n",
        "\n",
        "ax = sns.barplot(data=genre_rate, x='Rating', y='Genre', palette='gist_gray')\n",
        "ax.bar_label(ax.containers[0])\n",
        "plt.title('Top ten high average rated genre')\n",
        "plt.show()"
      ],
      "metadata": {
        "execution": {
          "iopub.status.busy": "2023-10-21T13:46:35.390318Z",
          "iopub.execute_input": "2023-10-21T13:46:35.390767Z",
          "iopub.status.idle": "2023-10-21T13:46:35.699618Z",
          "shell.execute_reply.started": "2023-10-21T13:46:35.390734Z",
          "shell.execute_reply": "2023-10-21T13:46:35.697787Z"
        },
        "trusted": true,
        "id": "4i0tSTuDIX21"
      },
      "execution_count": null,
      "outputs": []
    },
    {
      "cell_type": "code",
      "source": [
        "# 10 directors with good average ratings in the storyline\n",
        "director_rate = df.groupby('Director').agg({'Rating':'mean'}).sort_values(by='Rating', ascending=False)\\\n",
        "                                      .reset_index().head(10)\n",
        "\n",
        "ax = sns.barplot(data=director_rate, x='Rating', y='Director', palette='copper')\n",
        "ax.bar_label(ax.containers[0])\n",
        "plt.title('Top ten high average rated directors')\n",
        "plt.show()"
      ],
      "metadata": {
        "execution": {
          "iopub.status.busy": "2023-10-21T13:46:35.701194Z",
          "iopub.execute_input": "2023-10-21T13:46:35.701685Z",
          "iopub.status.idle": "2023-10-21T13:46:36.168145Z",
          "shell.execute_reply.started": "2023-10-21T13:46:35.701642Z",
          "shell.execute_reply": "2023-10-21T13:46:36.166945Z"
        },
        "trusted": true,
        "id": "nldrzifcIX21"
      },
      "execution_count": null,
      "outputs": []
    },
    {
      "cell_type": "code",
      "source": [
        "# 10 actors with high average rating in the plot\n",
        "actor1_rate = df.groupby('Actor 1').agg({'Rating':'mean'}).sort_values(by='Rating', ascending=False)\\\n",
        "                                      .reset_index().head(10)\n",
        "\n",
        "ax = sns.barplot(data=actor1_rate, x='Rating', y='Actor 1', palette='bone')\n",
        "ax.bar_label(ax.containers[0])\n",
        "plt.title('Top ten high average rated Actors')\n",
        "plt.show()"
      ],
      "metadata": {
        "execution": {
          "iopub.status.busy": "2023-10-21T13:46:36.169706Z",
          "iopub.execute_input": "2023-10-21T13:46:36.170622Z",
          "iopub.status.idle": "2023-10-21T13:46:36.524454Z",
          "shell.execute_reply.started": "2023-10-21T13:46:36.170579Z",
          "shell.execute_reply": "2023-10-21T13:46:36.522924Z"
        },
        "trusted": true,
        "id": "x82LRd7YIX21"
      },
      "execution_count": null,
      "outputs": []
    },
    {
      "cell_type": "code",
      "source": [
        "sns.scatterplot(data=df, x='Votes', y='Rating', size=0.1, alpha=0.5)\n",
        "plt.title('Relationship between rating and votes')\n",
        "plt.show()"
      ],
      "metadata": {
        "execution": {
          "iopub.status.busy": "2023-10-21T13:46:36.52641Z",
          "iopub.execute_input": "2023-10-21T13:46:36.527169Z",
          "iopub.status.idle": "2023-10-21T13:46:37.061788Z",
          "shell.execute_reply.started": "2023-10-21T13:46:36.52712Z",
          "shell.execute_reply": "2023-10-21T13:46:37.06084Z"
        },
        "trusted": true,
        "id": "s_ytvK2_IX26"
      },
      "execution_count": null,
      "outputs": []
    },
    {
      "cell_type": "code",
      "source": [
        "sns.scatterplot(data=df, x='Duration', y='Rating', size=0.1, alpha=0.5)\n",
        "plt.title('Relationship between rating and duration')\n",
        "plt.show()"
      ],
      "metadata": {
        "execution": {
          "iopub.status.busy": "2023-10-21T13:46:37.063982Z",
          "iopub.execute_input": "2023-10-21T13:46:37.06485Z",
          "iopub.status.idle": "2023-10-21T13:46:37.584594Z",
          "shell.execute_reply.started": "2023-10-21T13:46:37.064802Z",
          "shell.execute_reply": "2023-10-21T13:46:37.58344Z"
        },
        "trusted": true,
        "id": "L7iEw52ZIX26"
      },
      "execution_count": null,
      "outputs": []
    },
    {
      "cell_type": "code",
      "source": [
        "sns.pairplot(df[['Votes', 'Rating', 'Duration']]);"
      ],
      "metadata": {
        "execution": {
          "iopub.status.busy": "2023-10-21T13:46:37.586126Z",
          "iopub.execute_input": "2023-10-21T13:46:37.586488Z",
          "iopub.status.idle": "2023-10-21T13:47:05.847043Z",
          "shell.execute_reply.started": "2023-10-21T13:46:37.586457Z",
          "shell.execute_reply": "2023-10-21T13:47:05.84581Z"
        },
        "trusted": true,
        "id": "hz7u23IKIX26"
      },
      "execution_count": null,
      "outputs": []
    },
    {
      "cell_type": "code",
      "source": [
        "plt.figure(figsize=(20,8))\n",
        "sns.boxplot(data=df, x='Year', y='Rating')\n",
        "plt.title('Spreadness of rating per year')\n",
        "plt.xticks(rotation=90)\n",
        "plt.show()"
      ],
      "metadata": {
        "execution": {
          "iopub.status.busy": "2023-10-21T13:47:05.848448Z",
          "iopub.execute_input": "2023-10-21T13:47:05.848807Z",
          "iopub.status.idle": "2023-10-21T13:47:07.577186Z",
          "shell.execute_reply.started": "2023-10-21T13:47:05.848778Z",
          "shell.execute_reply": "2023-10-21T13:47:07.57609Z"
        },
        "trusted": true,
        "id": "xKkr19PQIX26"
      },
      "execution_count": null,
      "outputs": []
    },
    {
      "cell_type": "code",
      "source": [
        "df_update = df.drop(['Name'], axis=1)"
      ],
      "metadata": {
        "execution": {
          "iopub.status.busy": "2023-10-21T13:47:07.57875Z",
          "iopub.execute_input": "2023-10-21T13:47:07.579138Z",
          "iopub.status.idle": "2023-10-21T13:47:07.586217Z",
          "shell.execute_reply.started": "2023-10-21T13:47:07.579108Z",
          "shell.execute_reply": "2023-10-21T13:47:07.584853Z"
        },
        "trusted": true,
        "id": "O8VU7KPWIX27"
      },
      "execution_count": null,
      "outputs": []
    },
    {
      "cell_type": "code",
      "source": [
        "df_update.info()"
      ],
      "metadata": {
        "execution": {
          "iopub.status.busy": "2023-10-21T13:47:07.587948Z",
          "iopub.execute_input": "2023-10-21T13:47:07.588973Z",
          "iopub.status.idle": "2023-10-21T13:47:07.611204Z",
          "shell.execute_reply.started": "2023-10-21T13:47:07.58893Z",
          "shell.execute_reply": "2023-10-21T13:47:07.609901Z"
        },
        "trusted": true,
        "id": "4tqe91-MIX27"
      },
      "execution_count": null,
      "outputs": []
    },
    {
      "cell_type": "markdown",
      "source": [
        "# Target Encoding"
      ],
      "metadata": {
        "id": "nntJ0qkyIX27"
      }
    },
    {
      "cell_type": "code",
      "source": [
        "actor1_encoding_map = df_update.groupby('Actor 1').agg({'Rating': 'mean'}).to_dict()\n",
        "actor2_encoding_map = df_update.groupby('Actor 2').agg({'Rating': 'mean'}).to_dict()\n",
        "actor3_encoding_map = df_update.groupby('Actor 3').agg({'Rating': 'mean'}).to_dict()\n",
        "director_encoding_map = df_update.groupby('Director').agg({'Rating': 'mean'}).to_dict()\n",
        "genre_encoding_map = df_update.groupby('Genre').agg({'Rating': 'mean'}).to_dict()"
      ],
      "metadata": {
        "execution": {
          "iopub.status.busy": "2023-10-21T13:47:07.612843Z",
          "iopub.execute_input": "2023-10-21T13:47:07.613523Z",
          "iopub.status.idle": "2023-10-21T13:47:07.656921Z",
          "shell.execute_reply.started": "2023-10-21T13:47:07.613479Z",
          "shell.execute_reply": "2023-10-21T13:47:07.65583Z"
        },
        "trusted": true,
        "id": "niFROZR7IX27"
      },
      "execution_count": null,
      "outputs": []
    },
    {
      "cell_type": "code",
      "source": [
        "df_update['actor1_encoded'] = round(df_update['Actor 1'].map(actor1_encoding_map['Rating']),1)\n",
        "df_update['actor2_encoded'] = round(df_update['Actor 2'].map(actor2_encoding_map['Rating']),1)\n",
        "df_update['actor3_encoded'] = round(df_update['Actor 3'].map(actor3_encoding_map['Rating']),1)\n",
        "df_update['director_encoded'] = round(df_update['Director'].map(director_encoding_map['Rating']),1)\n",
        "df_update['genre_encoded'] = round(df_update['Genre'].map(genre_encoding_map['Rating']),1)"
      ],
      "metadata": {
        "execution": {
          "iopub.status.busy": "2023-10-21T13:47:07.658355Z",
          "iopub.execute_input": "2023-10-21T13:47:07.658698Z",
          "iopub.status.idle": "2023-10-21T13:47:07.678167Z",
          "shell.execute_reply.started": "2023-10-21T13:47:07.658667Z",
          "shell.execute_reply": "2023-10-21T13:47:07.677149Z"
        },
        "trusted": true,
        "id": "TgZBLbcyIX27"
      },
      "execution_count": null,
      "outputs": []
    },
    {
      "cell_type": "code",
      "source": [
        "df_update.drop(['Actor 1', 'Actor 2', 'Actor 3', 'Director', 'Genre'], axis=1, inplace=True)\n",
        "df_update.head()"
      ],
      "metadata": {
        "execution": {
          "iopub.status.busy": "2023-10-21T13:47:07.67984Z",
          "iopub.execute_input": "2023-10-21T13:47:07.68025Z",
          "iopub.status.idle": "2023-10-21T13:47:07.711414Z",
          "shell.execute_reply.started": "2023-10-21T13:47:07.680216Z",
          "shell.execute_reply": "2023-10-21T13:47:07.710226Z"
        },
        "trusted": true,
        "id": "1cmBEckaIX27"
      },
      "execution_count": null,
      "outputs": []
    },
    {
      "cell_type": "code",
      "source": [
        "sns.heatmap(df_update.corr(), annot=True, cmap='RdYlBu')\n",
        "plt.title('Correlation')\n",
        "plt.show()"
      ],
      "metadata": {
        "execution": {
          "iopub.status.busy": "2023-10-21T13:47:07.713126Z",
          "iopub.execute_input": "2023-10-21T13:47:07.713998Z",
          "iopub.status.idle": "2023-10-21T13:47:09.021055Z",
          "shell.execute_reply.started": "2023-10-21T13:47:07.713957Z",
          "shell.execute_reply": "2023-10-21T13:47:09.019502Z"
        },
        "trusted": true,
        "id": "FMqVOdsUIX28"
      },
      "execution_count": null,
      "outputs": []
    },
    {
      "cell_type": "code",
      "source": [
        "X = df_update.drop('Rating', axis=1)\n",
        "y = df_update['Rating']\n",
        "\n",
        "X.head()"
      ],
      "metadata": {
        "execution": {
          "iopub.status.busy": "2023-10-21T13:47:09.022629Z",
          "iopub.execute_input": "2023-10-21T13:47:09.0231Z",
          "iopub.status.idle": "2023-10-21T13:47:09.047111Z",
          "shell.execute_reply.started": "2023-10-21T13:47:09.023056Z",
          "shell.execute_reply": "2023-10-21T13:47:09.046228Z"
        },
        "trusted": true,
        "id": "NisFpVkhIX28"
      },
      "execution_count": null,
      "outputs": []
    },
    {
      "cell_type": "code",
      "source": [
        "# divide the data into test and train sets.\n",
        "X_train, X_test, y_train, y_test = train_test_split(X, y, test_size=0.2, random_state=42)"
      ],
      "metadata": {
        "execution": {
          "iopub.status.busy": "2023-10-21T13:47:09.048195Z",
          "iopub.execute_input": "2023-10-21T13:47:09.048843Z",
          "iopub.status.idle": "2023-10-21T13:47:09.058329Z",
          "shell.execute_reply.started": "2023-10-21T13:47:09.04881Z",
          "shell.execute_reply": "2023-10-21T13:47:09.057015Z"
        },
        "trusted": true,
        "id": "gi1uQFQ3IX28"
      },
      "execution_count": null,
      "outputs": []
    },
    {
      "cell_type": "code",
      "source": [
        "print('Shape of training features: ', X_train.shape)\n",
        "print('Shape of training target: ', y_train.shape)\n",
        "print('Shape of testing features: ', X_test.shape)\n",
        "print('Shape of testing target: ', y_test.shape)"
      ],
      "metadata": {
        "execution": {
          "iopub.status.busy": "2023-10-21T13:47:09.059871Z",
          "iopub.execute_input": "2023-10-21T13:47:09.060317Z",
          "iopub.status.idle": "2023-10-21T13:47:09.072024Z",
          "shell.execute_reply.started": "2023-10-21T13:47:09.060274Z",
          "shell.execute_reply": "2023-10-21T13:47:09.069568Z"
        },
        "trusted": true,
        "id": "14sdeNNWIX28"
      },
      "execution_count": null,
      "outputs": []
    },
    {
      "cell_type": "markdown",
      "source": [
        "# Evaluation AND Model Construction"
      ],
      "metadata": {
        "id": "VJly-LC5IX28"
      }
    },
    {
      "cell_type": "markdown",
      "source": [
        "**Linear Regression**"
      ],
      "metadata": {
        "id": "bkj96voeIX29"
      }
    },
    {
      "cell_type": "code",
      "source": [
        "# Initiate the model and fit into the training data\n",
        "LR = LinearRegression()\n",
        "LR.fit(X_train, y_train)\n",
        "\n",
        "# Evaluate the model performance on the training data\n",
        "print('Coefficient of determination: ', LR.score(X_train, y_train))"
      ],
      "metadata": {
        "execution": {
          "iopub.status.busy": "2023-10-21T13:47:09.073837Z",
          "iopub.execute_input": "2023-10-21T13:47:09.074883Z",
          "iopub.status.idle": "2023-10-21T13:47:09.125054Z",
          "shell.execute_reply.started": "2023-10-21T13:47:09.074817Z",
          "shell.execute_reply": "2023-10-21T13:47:09.123653Z"
        },
        "trusted": true,
        "id": "Fk0dVeD4IX29"
      },
      "execution_count": null,
      "outputs": []
    },
    {
      "cell_type": "code",
      "source": [
        "# Evaluate the model performance on the test data\n",
        "y_pred_LR = LR.predict(X_test)\n",
        "\n",
        "print('R^2: ', r2_score(y_test, y_pred_LR))\n",
        "print('MAE: ',mean_absolute_error(y_test, y_pred_LR))\n",
        "print('MSE: ', mean_squared_error(y_test, y_pred_LR))\n",
        "print('RMSE: ', np.sqrt(mean_squared_error(y_test, y_pred_LR)))"
      ],
      "metadata": {
        "execution": {
          "iopub.status.busy": "2023-10-21T13:47:09.126969Z",
          "iopub.execute_input": "2023-10-21T13:47:09.128886Z",
          "iopub.status.idle": "2023-10-21T13:47:09.153961Z",
          "shell.execute_reply.started": "2023-10-21T13:47:09.128833Z",
          "shell.execute_reply": "2023-10-21T13:47:09.15241Z"
        },
        "trusted": true,
        "id": "aCkSKBNCIX29"
      },
      "execution_count": null,
      "outputs": []
    },
    {
      "cell_type": "code",
      "source": [
        "# Create a `results` dataframe\n",
        "results = pd.DataFrame({'actual': y_test,\n",
        "                        'predicted': y_pred_LR.ravel(),\n",
        "                        'residual': y_test - y_pred_LR}\n",
        "                      )\n",
        "results.head()"
      ],
      "metadata": {
        "execution": {
          "iopub.status.busy": "2023-10-21T13:47:09.155656Z",
          "iopub.execute_input": "2023-10-21T13:47:09.157516Z",
          "iopub.status.idle": "2023-10-21T13:47:09.19462Z",
          "shell.execute_reply.started": "2023-10-21T13:47:09.157457Z",
          "shell.execute_reply": "2023-10-21T13:47:09.193332Z"
        },
        "trusted": true,
        "id": "-YRuaWWPIX29"
      },
      "execution_count": null,
      "outputs": []
    },
    {
      "cell_type": "code",
      "source": [
        "# Create a scatterplot to visualize `predicted` over `actual`\n",
        "sns.scatterplot(x=results['actual'], y=results['predicted'])\n",
        "plt.title('Actual vs Predicted values')\n",
        "plt.show()"
      ],
      "metadata": {
        "execution": {
          "iopub.status.busy": "2023-10-21T13:47:09.196314Z",
          "iopub.execute_input": "2023-10-21T13:47:09.198Z",
          "iopub.status.idle": "2023-10-21T13:47:09.453064Z",
          "shell.execute_reply.started": "2023-10-21T13:47:09.197953Z",
          "shell.execute_reply": "2023-10-21T13:47:09.451722Z"
        },
        "trusted": true,
        "id": "DirnRscKIX29"
      },
      "execution_count": null,
      "outputs": []
    },
    {
      "cell_type": "code",
      "source": [
        "# Visualize the distribution of the `residuals`\n",
        "sns.histplot(results['residual'], bins=np.arange(-3,3,0.5))\n",
        "plt.title('Histogram of residuals')\n",
        "plt.show()"
      ],
      "metadata": {
        "execution": {
          "iopub.status.busy": "2023-10-21T13:47:09.454637Z",
          "iopub.execute_input": "2023-10-21T13:47:09.454991Z",
          "iopub.status.idle": "2023-10-21T13:47:09.711531Z",
          "shell.execute_reply.started": "2023-10-21T13:47:09.454962Z",
          "shell.execute_reply": "2023-10-21T13:47:09.710166Z"
        },
        "trusted": true,
        "id": "Rg5AXnuPIX2-"
      },
      "execution_count": null,
      "outputs": []
    },
    {
      "cell_type": "code",
      "source": [
        "# Calculate residual mean\n",
        "results['residual'].mean()"
      ],
      "metadata": {
        "execution": {
          "iopub.status.busy": "2023-10-21T13:47:09.713036Z",
          "iopub.execute_input": "2023-10-21T13:47:09.713423Z",
          "iopub.status.idle": "2023-10-21T13:47:09.720589Z",
          "shell.execute_reply.started": "2023-10-21T13:47:09.713391Z",
          "shell.execute_reply": "2023-10-21T13:47:09.719547Z"
        },
        "trusted": true,
        "id": "VBqsJJMLIX2-"
      },
      "execution_count": null,
      "outputs": []
    },
    {
      "cell_type": "code",
      "source": [
        "# Create a scatterplot of `residuals` over `predicted`\n",
        "sns.scatterplot(x=results['predicted'], y=results['residual'])\n",
        "plt.axhline(0, c='red')\n",
        "plt.title('Scatterplot of residuals over predicted')\n",
        "plt.show()"
      ],
      "metadata": {
        "execution": {
          "iopub.status.busy": "2023-10-21T13:47:09.721795Z",
          "iopub.execute_input": "2023-10-21T13:47:09.72211Z",
          "iopub.status.idle": "2023-10-21T13:47:09.9808Z",
          "shell.execute_reply.started": "2023-10-21T13:47:09.722084Z",
          "shell.execute_reply": "2023-10-21T13:47:09.979771Z"
        },
        "trusted": true,
        "id": "T6XoZcYaIX2-"
      },
      "execution_count": null,
      "outputs": []
    },
    {
      "cell_type": "code",
      "source": [
        "# Output the model's coefficients\n",
        "coefficients = pd.DataFrame(LR.coef_, index=X.columns).T\n",
        "coefficients"
      ],
      "metadata": {
        "execution": {
          "iopub.status.busy": "2023-10-21T13:47:09.982088Z",
          "iopub.execute_input": "2023-10-21T13:47:09.982412Z",
          "iopub.status.idle": "2023-10-21T13:47:09.995531Z",
          "shell.execute_reply.started": "2023-10-21T13:47:09.98238Z",
          "shell.execute_reply": "2023-10-21T13:47:09.994667Z"
        },
        "trusted": true,
        "id": "CesWckyPIX2-"
      },
      "execution_count": null,
      "outputs": []
    },
    {
      "cell_type": "markdown",
      "source": [
        "**Linear Regression and Cross Validation**"
      ],
      "metadata": {
        "id": "WSJu8QK3IX2-"
      }
    },
    {
      "cell_type": "code",
      "source": [
        "LR_cv = LinearRegression()\n",
        "\n",
        "k = 5 # Number of folds\n",
        "cv = KFold(n_splits=k, shuffle=True, random_state=42)\n",
        "\n",
        "scores = cross_val_score(LR_cv, X, y, cv=cv, scoring='r2')\n",
        "\n",
        "print(\"R^2 scores:\", scores)\n",
        "print(\"Mean R^2:\", scores.mean())\n",
        "print(\"Standard Deviation of R^2:\", scores.std())"
      ],
      "metadata": {
        "execution": {
          "iopub.status.busy": "2023-10-21T13:47:09.996876Z",
          "iopub.execute_input": "2023-10-21T13:47:09.997687Z",
          "iopub.status.idle": "2023-10-21T13:47:10.156069Z",
          "shell.execute_reply.started": "2023-10-21T13:47:09.997651Z",
          "shell.execute_reply": "2023-10-21T13:47:10.15503Z"
        },
        "trusted": true,
        "id": "EBwjW1zOIX2-"
      },
      "execution_count": null,
      "outputs": []
    },
    {
      "cell_type": "markdown",
      "source": [
        "#### Ridge Regression"
      ],
      "metadata": {
        "id": "QOhHfaLoIX2_"
      }
    },
    {
      "cell_type": "code",
      "source": [
        "# Create a Ridge regression model\n",
        "RR = Ridge()\n",
        "# Define the hyperparameter grid\n",
        "param_grid = {'alpha': [0.01, 0.1, 1, 10, 100]}\n",
        "# Create a grid search object\n",
        "grid_search_RR = GridSearchCV(RR, param_grid, cv=5, scoring='r2')\n",
        "# Fit the grid search to your data\n",
        "grid_search_RR.fit(X_train, y_train)\n",
        "\n",
        "grid_search_RR.best_params_"
      ],
      "metadata": {
        "execution": {
          "iopub.status.busy": "2023-10-21T13:47:10.157948Z",
          "iopub.execute_input": "2023-10-21T13:47:10.159576Z",
          "iopub.status.idle": "2023-10-21T13:47:10.501287Z",
          "shell.execute_reply.started": "2023-10-21T13:47:10.159527Z",
          "shell.execute_reply": "2023-10-21T13:47:10.499906Z"
        },
        "trusted": true,
        "id": "KAb2D-vDIX2_"
      },
      "execution_count": null,
      "outputs": []
    },
    {
      "cell_type": "code",
      "source": [
        "y_pred_RR = grid_search_RR.predict(X_test)\n",
        "\n",
        "print('R^2: ', r2_score(y_test, y_pred_RR))\n",
        "print('MAE: ',mean_absolute_error(y_test, y_pred_RR))\n",
        "print('MSE: ', mean_squared_error(y_test, y_pred_RR))\n",
        "print('RMSE: ', np.sqrt(mean_squared_error(y_test, y_pred_RR)))"
      ],
      "metadata": {
        "execution": {
          "iopub.status.busy": "2023-10-21T13:47:10.503305Z",
          "iopub.execute_input": "2023-10-21T13:47:10.504202Z",
          "iopub.status.idle": "2023-10-21T13:47:10.522678Z",
          "shell.execute_reply.started": "2023-10-21T13:47:10.504149Z",
          "shell.execute_reply": "2023-10-21T13:47:10.520537Z"
        },
        "trusted": true,
        "id": "g77KvgIOIX2_"
      },
      "execution_count": null,
      "outputs": []
    },
    {
      "cell_type": "markdown",
      "source": [
        "**Decision Tree**"
      ],
      "metadata": {
        "id": "9AGG4LEKIX2_"
      }
    },
    {
      "cell_type": "code",
      "source": [
        "# Create a Decision tree regression model\n",
        "tree = DecisionTreeRegressor(random_state=0)\n",
        "# Define the hyperparameter grid\n",
        "param_grid = {'max_depth': [None, 10, 20, 30]}\n",
        "# Create a grid search object\n",
        "grid_search_tree = GridSearchCV(tree, param_grid, cv=5, scoring='r2')\n",
        "# Fit the grid search to your data\n",
        "grid_search_tree.fit(X_train, y_train)\n",
        "\n",
        "grid_search_tree.best_params_"
      ],
      "metadata": {
        "execution": {
          "iopub.status.busy": "2023-10-21T13:47:10.525426Z",
          "iopub.execute_input": "2023-10-21T13:47:10.527032Z",
          "iopub.status.idle": "2023-10-21T13:47:11.31696Z",
          "shell.execute_reply.started": "2023-10-21T13:47:10.526968Z",
          "shell.execute_reply": "2023-10-21T13:47:11.315887Z"
        },
        "trusted": true,
        "id": "GNe4iIpPIX2_"
      },
      "execution_count": null,
      "outputs": []
    },
    {
      "cell_type": "code",
      "source": [
        "y_pred_tree = grid_search_tree.predict(X_test)\n",
        "\n",
        "print('R^2: ', r2_score(y_test, y_pred_tree))\n",
        "print('MAE: ',mean_absolute_error(y_test, y_pred_tree))\n",
        "print('MSE: ', mean_squared_error(y_test, y_pred_tree))\n",
        "print('RMSE: ', np.sqrt(mean_squared_error(y_test, y_pred_tree)))"
      ],
      "metadata": {
        "execution": {
          "iopub.status.busy": "2023-10-21T13:47:11.318301Z",
          "iopub.execute_input": "2023-10-21T13:47:11.318664Z",
          "iopub.status.idle": "2023-10-21T13:47:11.331263Z",
          "shell.execute_reply.started": "2023-10-21T13:47:11.318636Z",
          "shell.execute_reply": "2023-10-21T13:47:11.329817Z"
        },
        "trusted": true,
        "id": "8WSKITYEIX3A"
      },
      "execution_count": null,
      "outputs": []
    },
    {
      "cell_type": "markdown",
      "source": [
        "**Random Forest**"
      ],
      "metadata": {
        "id": "7StyHJiSIX3A"
      }
    },
    {
      "cell_type": "code",
      "source": [
        "# Create a Random Forest Regressor model\n",
        "RF = RandomForestRegressor(random_state=0)\n",
        "param_grid = {'min_samples_leaf': [1, 3, 5]}\n",
        "grid_search_RF = GridSearchCV(RF, param_grid, cv=5, scoring='r2')\n",
        "# Fit the grid search to the data\n",
        "grid_search_RF.fit(X_train, y_train)\n",
        "\n",
        "grid_search_RF.best_params_"
      ],
      "metadata": {
        "execution": {
          "iopub.status.busy": "2023-10-21T13:47:11.335316Z",
          "iopub.execute_input": "2023-10-21T13:47:11.335828Z",
          "iopub.status.idle": "2023-10-21T13:47:42.63128Z",
          "shell.execute_reply.started": "2023-10-21T13:47:11.335795Z",
          "shell.execute_reply": "2023-10-21T13:47:42.629961Z"
        },
        "trusted": true,
        "id": "GNUcWk9uIX3A"
      },
      "execution_count": null,
      "outputs": []
    },
    {
      "cell_type": "code",
      "source": [
        "y_pred_RF = grid_search_RF.predict(X_test)\n",
        "\n",
        "print('R^2: ', r2_score(y_test, y_pred_RF))\n",
        "print('MAE: ',mean_absolute_error(y_test, y_pred_RF))\n",
        "print('MSE: ', mean_squared_error(y_test, y_pred_RF))\n",
        "print('RMSE: ', np.sqrt(mean_squared_error(y_test, y_pred_RF)))"
      ],
      "metadata": {
        "execution": {
          "iopub.status.busy": "2023-10-21T13:47:42.633174Z",
          "iopub.execute_input": "2023-10-21T13:47:42.63367Z",
          "iopub.status.idle": "2023-10-21T13:47:42.6858Z",
          "shell.execute_reply.started": "2023-10-21T13:47:42.633607Z",
          "shell.execute_reply": "2023-10-21T13:47:42.684497Z"
        },
        "trusted": true,
        "id": "GlGZQfsuIX3A"
      },
      "execution_count": null,
      "outputs": []
    },
    {
      "cell_type": "markdown",
      "source": [
        "## Conclusion"
      ],
      "metadata": {
        "id": "YBJ0vO-CIX3A"
      }
    },
    {
      "cell_type": "markdown",
      "source": [
        "The average movie rating for the years 1940, 1950, and 1948 was high.\n",
        "From 1917 to 2020, the number of movies released year grew.\n",
        "History, Romance, Documentary, History, Family, and Documentary, Music are the top three highly ranked categories.\n",
        "The highest regarded filmmakers include Bobby Kumar, Sriram Raja, and Saif Ali Sayeed.\n",
        "The three highest-rated actors on the list are Dharmendra Ahir, Raj Banerjee, and Ahaan Jha.\n",
        "There is little correlation between movie votes and movie ratings.\n",
        "The length of a movie and its rating have no relationship.\n",
        "With test data, the linear regression model yields a R^2 of {0.758}.\n",
        "After cross-validation, the linear regression model yields a R^2 of {0.76}.\n",
        "With test data, the decision tree model yields a R^2 of {0.70}.\n",
        "With test data, the random forest regressor model yields a R^2 of {0.79}."
      ],
      "metadata": {
        "id": "4PaIJ7dmIX3B"
      }
    }
  ]
}